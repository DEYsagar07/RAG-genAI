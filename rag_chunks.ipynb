{
 "cells": [
  {
   "cell_type": "markdown",
   "id": "18f232f1",
   "metadata": {},
   "source": [
    "# RAG PROJECT"
   ]
  },
  {
   "cell_type": "code",
   "execution_count": 63,
   "id": "9a4409aa",
   "metadata": {},
   "outputs": [],
   "source": [
    "from dotenv import load_dotenv\n",
    "from langchain_google_genai import ChatGoogleGenerativeAI\n",
    "import os\n",
    "load_dotenv()\n",
    "GEMINI_API_KEY = os.getenv('GEMINI_API_KEY')\n",
    "llm = ChatGoogleGenerativeAI(model=\"models/gemini-2.5-flash\", google_api_key=GEMINI_API_KEY)\n"
   ]
  },
  {
   "cell_type": "code",
   "execution_count": 64,
   "id": "80bfff09",
   "metadata": {},
   "outputs": [
    {
     "name": "stdout",
     "output_type": "stream",
     "text": [
      "[Document(metadata={'source': 'https://educosys.com/course/genai', 'title': 'Hands-on Generative AI Course', 'description': 'Hands-on Generative AI Course', 'language': 'en'}, page_content=\"Hands-on Generative AI CourseCoursesBundle CoursesMentorFree ContentTestimonialsFAQLogin Signup Hands-on Generative AI CourseLearn, Build, Deploy and Apply Generative AI7 weeks · 3 classes/week · 2 hrs/class + Post-class Doubt SupportAccess all Live BatchesLifetime access of RecordingsAccess Discord CommunityCode availableBuild ProjectsLearn Future-Ready TechEnroll 1Week 1Foundations of Generative AI Introduction to AI Mathematical Foundations for AI Probability, Statistics, and Linear Algebra Basics of Neural Networks Gradient Descent and Optimization Basics Architectures: Feedforward, RNN, and CNN Mini Project - Build a Simple Neural Network Using TensorFlow Mini Project - Train an Autoencoder on the MNIST Dataset2Week 2Deep Generative Models Discriminative and Generative models Generative Adversarial Networks (GANs) Variational Autoencoders (VAEs) Probabilistic Data Generation Using VAEs Four Mini Projects using TensorFlow Metrics Visualization using TensorBoard Mini Project - Implement a GAN to Generate Handwritten Digits Mini Project - Train a VAE to Generate Faces Using the CelebA Dataset3Week 3Transformers and Large Language Models RNN, LSTM Transformers Architecture Attention Mechanism: Self-Attention and Positional Encoding Major Project - Code Transformer from scratch Encoder-Decoder Framework Pretraining objectives: MLM, CLM GPT, BERT Mini Project - Sentiment Analysis Using BERT4Week 4Fine-Tuning, LangChain, LangGraph Pretraining and Fine-Tuning LoRA, QLoRA Hugging Face Fine-tuning for Tasks Like Summarization, QA LangChain Installation and Basic Setup Overview of LangChain: Prompts, Memory, Chains, Agents LangGraph: Nodes, State, StateGraph, Workflows AI Agents Mini Project - Simple Q&A Application Using LangChain5Week 5Vector Databases, RAG Vector Databases ChromaDB Applications of RAG Building RAG Pipelines with LangChain Building Frontend using Streamlit Major Project - Build End to End Chatbot like ChatGPT using Streamlit, LangGraph, ChromaDB, WebSearch Tools, Memory with LLMs Project - Build an App using Streamlit for Image Generation, Image Caption Generation, Video Caption Generation6Week 6Trending Topics MCP - Model Context Protocol Ollama Projects - Fine-Tuning using Unsloth Mixture of Experts Chain of Thoughts Deepseek Architecture7Week 7Projects, Trending Topics Distillation Diffusion Models Vision Transformers Multimodal Models CLIP Prompt EngineeringTestimonialsWe've a large community of talentsVoices of Delight: Discover what our students say about their learning journey. Real stories, real satisfaction—explore testimonials that reflect the quality, dedication, and excellence we strive to deliver.Sahitya Raj ACo-founderSreeal TechnologiesI attended Educosys live Generative AI online course, and despite not being a beginner in the field, I found it incredibly valuable for learners at all levels. The curriculum was well-structured, covering everything from basic neural networks to advanced frameworks and architectures.  One of the highlights was the transformer architecture, which was covered in remarkable depth with absolute clarity—no confusion, just a seamless understanding of self-attention, positional encoding, and how these models scale. And the way Keerti delivered it leaves a lasting impact—truly unmatched and unforgettable! Beyond the structured content, they also stretched beyond to cover the absolute latest - DeepSeek. Concepts that once felt intimidating now feel second nature.  An added bonus was the notes, which removed the overhead of excessive note-taking and allowed for more focused learning. The balance between theory and hands-on learning was perfect, making it easy to apply new knowledge in real-world projects. By the end of the course, I feel a significant boost in my confidence—whether at work, workshops, meetups, discussions, projects, or analyzing cutting-edge AI advancements.  This course is truly for everyone, whether you’re getting started or deepening your expertise in Generative AI. Highly recommended! Kudos to Keerthi and Amit for their incredible efforts in designing and delivering this course so beautifully, and for the vast amount of knowledge they have gathered and shared with us!Read moreAshish UpretiLead SDEIntelI really enjoyed the GenAI course. Coming from someone with zero knowledge on the topic, after seven weeks, I'm able to understand the magic behind GenAI. I also liked the quality of the content and how you broke down such a complex topic for easy understanding. I appreciate your patience and eagerness to clarify all the doubts. I have already enrolled in the LLD and HLD courses and am looking forward to it.Read moreSathish KrishnaBusiness Enterprise ArchitectIBMGenerative AI has been so much helpful for me in my job and my research, that this course has given me a breadth and depth of the fundamentals of every topic that we have been hearing in the trends of Computing Domain. Keerti has thought this course in a wonderful way that I can slice and dice the complexity to understand the reasoning behind each concept. I recommend this course to everyone. Kudos to Keerti and her entire team.Read moreRaman SharmaPrincipal Software EngineerOracleI found the course very helpful and well structured. It started with the very basics of neural networks, it even touched upon the maths to get a proper understanding of what's going on under the hood. Gradually progressing towards more advanced models like CNN, RNN, and then transformers was done in a steady and helpful way. The intuitions Keerti provided were very useful and make a lasting impression in your mind regarding the topic. I haven't found such intuitions and easy to understand explanations elsewhere. Taking this course has increased my confidence towards GenAI and it has given me a solid platform from where I can read more AI related blogs, whitepapers, etc. without feeling overwhelmed. It has even helped me demonstrate a POC within my team that was well received. I recommend this course to anyone starting out with GenAIRead moreSudarshan Suresh SrikantSoftware EngineerCienaKudos to the Educosys team and thanks to Keerti for making learning AI/ML easy. Starting from the basics upto advanced level with most up to date AI developments, the course instilled me with great confidence in approaching problems that could be solved with AI. Every minute detail with code was covered in-depth. I would definitely recommend taking up this course.Read moreSyed IInformation Security OfficerForm3A real game changer of a course especially when it comes to real world applications. Keerti is an amazing mentor and gets to the crux of the learning without any frills. Highly recommend.Ruthira SekarI'm Database developer/DBA, Completing the Generative AI course was an insightful experience, deepening my knowledge of Machine Learning. Keerti’s passion for teaching made complex topics easy to grasp. I highly recommend this course to anyone interested in AI and ML!Read moreAbhijit MoneSDEMentorgainI'm Database developer/DBA, Completing the Generative AI course was an insightful experience, deepening my knowledge of Machine Learning. Keerti’s passion for teaching made complex topics easy to grasp. I highly recommend this course to anyone interested in AI and ML!Read moreManika KaushikSenior Software EngineerOptum-United HealthGroupKeerti explains everything in such simple and creative manner, even difficult and huge topics became easy to understand.Frequently asked questionsIs this a Live or Recorded Course?When will the next Live batch be launched?What if I am interested in learning Live only?What are the prerequisites for the course?Is Machine Learning pre-requisite for the course?How many projects will we work on? Can I add these to resume?Is this course for freshers or for experienced people?How will you be able to cover so much in 7 weeks?What languages do we use to build the projects?Can I watch the classes only on the phone without a Laptop?Will you provide the code?Where can I ask you doubts?What language will the course be taught in?Do you have a mobile application?Can I watch the class recordings or go through notes offline?Do you provide certificate for the course?Can I get invoices for reimbursement?I have more questions, how can I reach out to you?© 2025 Copyright Educosys. All rights reserved.\")]\n"
     ]
    }
   ],
   "source": [
    "from langchain_community.document_loaders import WebBaseLoader\n",
    "loader = WebBaseLoader(web_paths=[\"https://educosys.com/course/genai\"])\n",
    "docs = loader.load()\n",
    "print(docs)\n",
    " # Optional: prints your API key"
   ]
  },
  {
   "cell_type": "code",
   "execution_count": 65,
   "id": "59a05fc3",
   "metadata": {},
   "outputs": [],
   "source": [
    "from langchain_text_splitters import RecursiveCharacterTextSplitter\n",
    "text_splitter = RecursiveCharacterTextSplitter(chunk_size=1000, chunk_overlap=200)\n",
    "splits = text_splitter.split_documents(docs)"
   ]
  },
  {
   "cell_type": "code",
   "execution_count": 66,
   "id": "d04d5c48",
   "metadata": {},
   "outputs": [
    {
     "name": "stdout",
     "output_type": "stream",
     "text": [
      "page_content='Hands-on Generative AI CourseCoursesBundle CoursesMentorFree ContentTestimonialsFAQLogin Signup Hands-on Generative AI CourseLearn, Build, Deploy and Apply Generative AI7 weeks · 3 classes/week · 2 hrs/class + Post-class Doubt SupportAccess all Live BatchesLifetime access of RecordingsAccess Discord CommunityCode availableBuild ProjectsLearn Future-Ready TechEnroll 1Week 1Foundations of Generative AI Introduction to AI Mathematical Foundations for AI Probability, Statistics, and Linear Algebra Basics of Neural Networks Gradient Descent and Optimization Basics Architectures: Feedforward, RNN, and CNN Mini Project - Build a Simple Neural Network Using TensorFlow Mini Project - Train an Autoencoder on the MNIST Dataset2Week 2Deep Generative Models Discriminative and Generative models Generative Adversarial Networks (GANs) Variational Autoencoders (VAEs) Probabilistic Data Generation Using VAEs Four Mini Projects using TensorFlow Metrics Visualization using TensorBoard Mini Project -' metadata={'source': 'https://educosys.com/course/genai', 'title': 'Hands-on Generative AI Course', 'description': 'Hands-on Generative AI Course', 'language': 'en'}\n",
      "page_content='Adversarial Networks (GANs) Variational Autoencoders (VAEs) Probabilistic Data Generation Using VAEs Four Mini Projects using TensorFlow Metrics Visualization using TensorBoard Mini Project - Implement a GAN to Generate Handwritten Digits Mini Project - Train a VAE to Generate Faces Using the CelebA Dataset3Week 3Transformers and Large Language Models RNN, LSTM Transformers Architecture Attention Mechanism: Self-Attention and Positional Encoding Major Project - Code Transformer from scratch Encoder-Decoder Framework Pretraining objectives: MLM, CLM GPT, BERT Mini Project - Sentiment Analysis Using BERT4Week 4Fine-Tuning, LangChain, LangGraph Pretraining and Fine-Tuning LoRA, QLoRA Hugging Face Fine-tuning for Tasks Like Summarization, QA LangChain Installation and Basic Setup Overview of LangChain: Prompts, Memory, Chains, Agents LangGraph: Nodes, State, StateGraph, Workflows AI Agents Mini Project - Simple Q&A Application Using LangChain5Week 5Vector Databases, RAG Vector Databases' metadata={'source': 'https://educosys.com/course/genai', 'title': 'Hands-on Generative AI Course', 'description': 'Hands-on Generative AI Course', 'language': 'en'}\n",
      "11\n"
     ]
    }
   ],
   "source": [
    "print(splits[0])\n",
    "print(splits[1])\n",
    "print(len(splits))\n"
   ]
  },
  {
   "cell_type": "code",
   "execution_count": 67,
   "id": "0111dbc2",
   "metadata": {},
   "outputs": [],
   "source": [
    "# from langchain.embeddings.openai import Embeddings\n",
    "# from langchain.vectorstores import Chroma\n",
    "\n",
    "# vectorstore = Chroma.from_documents(documents=splits, embedding=OpenAIEmbeddings())\n",
    "\n",
    "from langchain.embeddings import HuggingFaceEmbeddings\n",
    "from langchain.vectorstores import Chroma\n",
    "\n",
    "embedding = HuggingFaceEmbeddings(model_name=\"all-MiniLM-L6-v2\")\n",
    "vectorstore = Chroma.from_documents(documents=splits, embedding=embedding)\n"
   ]
  },
  {
   "cell_type": "code",
   "execution_count": 68,
   "id": "fdc1c7e6",
   "metadata": {},
   "outputs": [
    {
     "name": "stdout",
     "output_type": "stream",
     "text": [
      "33\n"
     ]
    }
   ],
   "source": [
    "print(vectorstore._collection.count())"
   ]
  },
  {
   "cell_type": "code",
   "execution_count": 69,
   "id": "55846997",
   "metadata": {},
   "outputs": [
    {
     "name": "stdout",
     "output_type": "stream",
     "text": [
      "{'ids': ['3d4185c4-e991-4ec9-9c17-2ed15f1c2bed', 'e4e0b964-86f2-4b11-b1df-63b339ef2150', '30c9a24d-725a-4ada-8af9-60318da40763', '9f0c7e1c-eed8-4b40-b34e-8eb9c4061a5d', '091b6076-a331-4147-912d-b8914b0d8aed', '6ec242be-f0b5-49da-b1c5-e1720eb682b9', '129266e1-acb9-487f-a7d2-b2df45666d03', '6471c5e7-a2c7-4ea1-bd74-3683fadc05aa', 'bffab2a5-f78b-4fd0-9069-9ec82aa73849', '3e0a9567-0154-4ee5-8882-cdc31f74e0d0', '3a6e95bd-3eb4-4c9d-8c90-bc1c4d10796e', '062745b7-9691-4798-8b7e-dedf44a9aaed', 'f67df641-c395-4683-bca6-bc48d6c9ca53', '75086835-fe11-4bc1-9d30-40322c01428e', '873e0784-d550-473e-b9e4-3d3373eb0451', '412d3ce8-f95d-4c2f-bbb1-a8fd5a61a5c2', 'ad058fcc-5b0f-4665-b39c-aca02c81495f', 'd43aba9b-45d7-470c-809d-8d34de3371b9', 'aa8d1f36-2d10-4f0a-9209-0f006559cb68', 'bdd73c6f-6297-4d24-b54c-821953650123', 'e22b49bd-7071-45bd-a623-dc585cff4ef5', '5cb03837-2d18-4680-80ee-6c586100d676', 'c534d363-f167-4fa0-a555-554c455ea350', 'e0da477f-2821-4193-afcd-e0e030d7a956', '7421e995-450a-4a31-83a2-88d4bf99e962', '5ce69c26-d63e-4477-b40c-4276cc439546', '1026e994-4d6c-4655-9367-f29d39cc49cc', '2aa0cf7a-792a-48d1-9bd7-32ca2a2224ee', '395bd85e-7ce0-4ce2-b2d2-86fcac570ca8', 'f9ecf5f6-fbc3-49cf-bbdd-7e4bcd77eeed', 'f4d7c887-c3a4-41be-be63-27f04299cd7c', '6c8e2a80-f98a-4b39-9252-0e4b68951975', '5f33e45b-b71a-405a-b7a4-ade84c5d9893'], 'embeddings': None, 'documents': ['Hands-on Generative AI CourseCoursesBundle CoursesMentorFree ContentTestimonialsFAQLogin Signup Hands-on Generative AI CourseLearn, Build, Deploy and Apply Generative AI7 weeks · 3 classes/week · 2 hrs/class + Post-class Doubt SupportAccess all Live BatchesLifetime access of RecordingsAccess Discord CommunityCode availableBuild ProjectsLearn Future-Ready TechEnroll 1Week 1Foundations of Generative AI Introduction to AI Mathematical Foundations for AI Probability, Statistics, and Linear Algebra Basics of Neural Networks Gradient Descent and Optimization Basics Architectures: Feedforward, RNN, and CNN Mini Project - Build a Simple Neural Network Using TensorFlow Mini Project - Train an Autoencoder on the MNIST Dataset2Week 2Deep Generative Models Discriminative and Generative models Generative Adversarial Networks (GANs) Variational Autoencoders (VAEs) Probabilistic Data Generation Using VAEs Four Mini Projects using TensorFlow Metrics Visualization using TensorBoard Mini Project -', 'Adversarial Networks (GANs) Variational Autoencoders (VAEs) Probabilistic Data Generation Using VAEs Four Mini Projects using TensorFlow Metrics Visualization using TensorBoard Mini Project - Implement a GAN to Generate Handwritten Digits Mini Project - Train a VAE to Generate Faces Using the CelebA Dataset3Week 3Transformers and Large Language Models RNN, LSTM Transformers Architecture Attention Mechanism: Self-Attention and Positional Encoding Major Project - Code Transformer from scratch Encoder-Decoder Framework Pretraining objectives: MLM, CLM GPT, BERT Mini Project - Sentiment Analysis Using BERT4Week 4Fine-Tuning, LangChain, LangGraph Pretraining and Fine-Tuning LoRA, QLoRA Hugging Face Fine-tuning for Tasks Like Summarization, QA LangChain Installation and Basic Setup Overview of LangChain: Prompts, Memory, Chains, Agents LangGraph: Nodes, State, StateGraph, Workflows AI Agents Mini Project - Simple Q&A Application Using LangChain5Week 5Vector Databases, RAG Vector Databases', \"LangChain: Prompts, Memory, Chains, Agents LangGraph: Nodes, State, StateGraph, Workflows AI Agents Mini Project - Simple Q&A Application Using LangChain5Week 5Vector Databases, RAG Vector Databases ChromaDB Applications of RAG Building RAG Pipelines with LangChain Building Frontend using Streamlit Major Project - Build End to End Chatbot like ChatGPT using Streamlit, LangGraph, ChromaDB, WebSearch Tools, Memory with LLMs Project - Build an App using Streamlit for Image Generation, Image Caption Generation, Video Caption Generation6Week 6Trending Topics MCP - Model Context Protocol Ollama Projects - Fine-Tuning using Unsloth Mixture of Experts Chain of Thoughts Deepseek Architecture7Week 7Projects, Trending Topics Distillation Diffusion Models Vision Transformers Multimodal Models CLIP Prompt EngineeringTestimonialsWe've a large community of talentsVoices of Delight: Discover what our students say about their learning journey. Real stories, real satisfaction—explore testimonials that\", \"EngineeringTestimonialsWe've a large community of talentsVoices of Delight: Discover what our students say about their learning journey. Real stories, real satisfaction—explore testimonials that reflect the quality, dedication, and excellence we strive to deliver.Sahitya Raj ACo-founderSreeal TechnologiesI attended Educosys live Generative AI online course, and despite not being a beginner in the field, I found it incredibly valuable for learners at all levels. The curriculum was well-structured, covering everything from basic neural networks to advanced frameworks and architectures.  One of the highlights was the transformer architecture, which was covered in remarkable depth with absolute clarity—no confusion, just a seamless understanding of self-attention, positional encoding, and how these models scale. And the way Keerti delivered it leaves a lasting impact—truly unmatched and unforgettable! Beyond the structured content, they also stretched beyond to cover the absolute latest -\", 'these models scale. And the way Keerti delivered it leaves a lasting impact—truly unmatched and unforgettable! Beyond the structured content, they also stretched beyond to cover the absolute latest - DeepSeek. Concepts that once felt intimidating now feel second nature.  An added bonus was the notes, which removed the overhead of excessive note-taking and allowed for more focused learning. The balance between theory and hands-on learning was perfect, making it easy to apply new knowledge in real-world projects. By the end of the course, I feel a significant boost in my confidence—whether at work, workshops, meetups, discussions, projects, or analyzing cutting-edge AI advancements.  This course is truly for everyone, whether you’re getting started or deepening your expertise in Generative AI. Highly recommended! Kudos to Keerthi and Amit for their incredible efforts in designing and delivering this course so beautifully, and for the vast amount of knowledge they have gathered and', \"AI. Highly recommended! Kudos to Keerthi and Amit for their incredible efforts in designing and delivering this course so beautifully, and for the vast amount of knowledge they have gathered and shared with us!Read moreAshish UpretiLead SDEIntelI really enjoyed the GenAI course. Coming from someone with zero knowledge on the topic, after seven weeks, I'm able to understand the magic behind GenAI. I also liked the quality of the content and how you broke down such a complex topic for easy understanding. I appreciate your patience and eagerness to clarify all the doubts. I have already enrolled in the LLD and HLD courses and am looking forward to it.Read moreSathish KrishnaBusiness Enterprise ArchitectIBMGenerative AI has been so much helpful for me in my job and my research, that this course has given me a breadth and depth of the fundamentals of every topic that we have been hearing in the trends of Computing Domain. Keerti has thought this course in a wonderful way that I can slice\", \"has given me a breadth and depth of the fundamentals of every topic that we have been hearing in the trends of Computing Domain. Keerti has thought this course in a wonderful way that I can slice and dice the complexity to understand the reasoning behind each concept. I recommend this course to everyone. Kudos to Keerti and her entire team.Read moreRaman SharmaPrincipal Software EngineerOracleI found the course very helpful and well structured. It started with the very basics of neural networks, it even touched upon the maths to get a proper understanding of what's going on under the hood. Gradually progressing towards more advanced models like CNN, RNN, and then transformers was done in a steady and helpful way. The intuitions Keerti provided were very useful and make a lasting impression in your mind regarding the topic. I haven't found such intuitions and easy to understand explanations elsewhere. Taking this course has increased my confidence towards GenAI and it has given me a\", \"in your mind regarding the topic. I haven't found such intuitions and easy to understand explanations elsewhere. Taking this course has increased my confidence towards GenAI and it has given me a solid platform from where I can read more AI related blogs, whitepapers, etc. without feeling overwhelmed. It has even helped me demonstrate a POC within my team that was well received. I recommend this course to anyone starting out with GenAIRead moreSudarshan Suresh SrikantSoftware EngineerCienaKudos to the Educosys team and thanks to Keerti for making learning AI/ML easy. Starting from the basics upto advanced level with most up to date AI developments, the course instilled me with great confidence in approaching problems that could be solved with AI. Every minute detail with code was covered in-depth. I would definitely recommend taking up this course.Read moreSyed IInformation Security OfficerForm3A real game changer of a course especially when it comes to real world applications. Keerti\", \"I would definitely recommend taking up this course.Read moreSyed IInformation Security OfficerForm3A real game changer of a course especially when it comes to real world applications. Keerti is an amazing mentor and gets to the crux of the learning without any frills. Highly recommend.Ruthira SekarI'm Database developer/DBA, Completing the Generative AI course was an insightful experience, deepening my knowledge of Machine Learning. Keerti’s passion for teaching made complex topics easy to grasp. I highly recommend this course to anyone interested in AI and ML!Read moreAbhijit MoneSDEMentorgainI'm Database developer/DBA, Completing the Generative AI course was an insightful experience, deepening my knowledge of Machine Learning. Keerti’s passion for teaching made complex topics easy to grasp. I highly recommend this course to anyone interested in AI and ML!Read moreManika KaushikSenior Software EngineerOptum-United HealthGroupKeerti explains everything in such simple and creative\", 'grasp. I highly recommend this course to anyone interested in AI and ML!Read moreManika KaushikSenior Software EngineerOptum-United HealthGroupKeerti explains everything in such simple and creative manner, even difficult and huge topics became easy to understand.Frequently asked questionsIs this a Live or Recorded Course?When will the next Live batch be launched?What if I am interested in learning Live only?What are the prerequisites for the course?Is Machine Learning pre-requisite for the course?How many projects will we work on? Can I add these to resume?Is this course for freshers or for experienced people?How will you be able to cover so much in 7 weeks?What languages do we use to build the projects?Can I watch the classes only on the phone without a Laptop?Will you provide the code?Where can I ask you doubts?What language will the course be taught in?Do you have a mobile application?Can I watch the class recordings or go through notes offline?Do you provide certificate for the', 'can I ask you doubts?What language will the course be taught in?Do you have a mobile application?Can I watch the class recordings or go through notes offline?Do you provide certificate for the course?Can I get invoices for reimbursement?I have more questions, how can I reach out to you?© 2025 Copyright Educosys. All rights reserved.', 'Hands-on Generative AI CourseCoursesBundle CoursesMentorFree ContentTestimonialsFAQLogin Signup Hands-on Generative AI CourseLearn, Build, Deploy and Apply Generative AI7 weeks · 3 classes/week · 2 hrs/class + Post-class Doubt SupportAccess all Live BatchesLifetime access of RecordingsAccess Discord CommunityCode availableBuild ProjectsLearn Future-Ready TechEnroll 1Week 1Foundations of Generative AI Introduction to AI Mathematical Foundations for AI Probability, Statistics, and Linear Algebra Basics of Neural Networks Gradient Descent and Optimization Basics Architectures: Feedforward, RNN, and CNN Mini Project - Build a Simple Neural Network Using TensorFlow Mini Project - Train an Autoencoder on the MNIST Dataset2Week 2Deep Generative Models Discriminative and Generative models Generative Adversarial Networks (GANs) Variational Autoencoders (VAEs) Probabilistic Data Generation Using VAEs Four Mini Projects using TensorFlow Metrics Visualization using TensorBoard Mini Project -', 'Adversarial Networks (GANs) Variational Autoencoders (VAEs) Probabilistic Data Generation Using VAEs Four Mini Projects using TensorFlow Metrics Visualization using TensorBoard Mini Project - Implement a GAN to Generate Handwritten Digits Mini Project - Train a VAE to Generate Faces Using the CelebA Dataset3Week 3Transformers and Large Language Models RNN, LSTM Transformers Architecture Attention Mechanism: Self-Attention and Positional Encoding Major Project - Code Transformer from scratch Encoder-Decoder Framework Pretraining objectives: MLM, CLM GPT, BERT Mini Project - Sentiment Analysis Using BERT4Week 4Fine-Tuning, LangChain, LangGraph Pretraining and Fine-Tuning LoRA, QLoRA Hugging Face Fine-tuning for Tasks Like Summarization, QA LangChain Installation and Basic Setup Overview of LangChain: Prompts, Memory, Chains, Agents LangGraph: Nodes, State, StateGraph, Workflows AI Agents Mini Project - Simple Q&A Application Using LangChain5Week 5Vector Databases, RAG Vector Databases', \"LangChain: Prompts, Memory, Chains, Agents LangGraph: Nodes, State, StateGraph, Workflows AI Agents Mini Project - Simple Q&A Application Using LangChain5Week 5Vector Databases, RAG Vector Databases ChromaDB Applications of RAG Building RAG Pipelines with LangChain Building Frontend using Streamlit Major Project - Build End to End Chatbot like ChatGPT using Streamlit, LangGraph, ChromaDB, WebSearch Tools, Memory with LLMs Project - Build an App using Streamlit for Image Generation, Image Caption Generation, Video Caption Generation6Week 6Trending Topics MCP - Model Context Protocol Ollama Projects - Fine-Tuning using Unsloth Mixture of Experts Chain of Thoughts Deepseek Architecture7Week 7Projects, Trending Topics Distillation Diffusion Models Vision Transformers Multimodal Models CLIP Prompt EngineeringTestimonialsWe've a large community of talentsVoices of Delight: Discover what our students say about their learning journey. Real stories, real satisfaction—explore testimonials that\", \"EngineeringTestimonialsWe've a large community of talentsVoices of Delight: Discover what our students say about their learning journey. Real stories, real satisfaction—explore testimonials that reflect the quality, dedication, and excellence we strive to deliver.Sahitya Raj ACo-founderSreeal TechnologiesI attended Educosys live Generative AI online course, and despite not being a beginner in the field, I found it incredibly valuable for learners at all levels. The curriculum was well-structured, covering everything from basic neural networks to advanced frameworks and architectures.  One of the highlights was the transformer architecture, which was covered in remarkable depth with absolute clarity—no confusion, just a seamless understanding of self-attention, positional encoding, and how these models scale. And the way Keerti delivered it leaves a lasting impact—truly unmatched and unforgettable! Beyond the structured content, they also stretched beyond to cover the absolute latest -\", 'these models scale. And the way Keerti delivered it leaves a lasting impact—truly unmatched and unforgettable! Beyond the structured content, they also stretched beyond to cover the absolute latest - DeepSeek. Concepts that once felt intimidating now feel second nature.  An added bonus was the notes, which removed the overhead of excessive note-taking and allowed for more focused learning. The balance between theory and hands-on learning was perfect, making it easy to apply new knowledge in real-world projects. By the end of the course, I feel a significant boost in my confidence—whether at work, workshops, meetups, discussions, projects, or analyzing cutting-edge AI advancements.  This course is truly for everyone, whether you’re getting started or deepening your expertise in Generative AI. Highly recommended! Kudos to Keerthi and Amit for their incredible efforts in designing and delivering this course so beautifully, and for the vast amount of knowledge they have gathered and', \"AI. Highly recommended! Kudos to Keerthi and Amit for their incredible efforts in designing and delivering this course so beautifully, and for the vast amount of knowledge they have gathered and shared with us!Read moreAshish UpretiLead SDEIntelI really enjoyed the GenAI course. Coming from someone with zero knowledge on the topic, after seven weeks, I'm able to understand the magic behind GenAI. I also liked the quality of the content and how you broke down such a complex topic for easy understanding. I appreciate your patience and eagerness to clarify all the doubts. I have already enrolled in the LLD and HLD courses and am looking forward to it.Read moreSathish KrishnaBusiness Enterprise ArchitectIBMGenerative AI has been so much helpful for me in my job and my research, that this course has given me a breadth and depth of the fundamentals of every topic that we have been hearing in the trends of Computing Domain. Keerti has thought this course in a wonderful way that I can slice\", \"has given me a breadth and depth of the fundamentals of every topic that we have been hearing in the trends of Computing Domain. Keerti has thought this course in a wonderful way that I can slice and dice the complexity to understand the reasoning behind each concept. I recommend this course to everyone. Kudos to Keerti and her entire team.Read moreRaman SharmaPrincipal Software EngineerOracleI found the course very helpful and well structured. It started with the very basics of neural networks, it even touched upon the maths to get a proper understanding of what's going on under the hood. Gradually progressing towards more advanced models like CNN, RNN, and then transformers was done in a steady and helpful way. The intuitions Keerti provided were very useful and make a lasting impression in your mind regarding the topic. I haven't found such intuitions and easy to understand explanations elsewhere. Taking this course has increased my confidence towards GenAI and it has given me a\", \"in your mind regarding the topic. I haven't found such intuitions and easy to understand explanations elsewhere. Taking this course has increased my confidence towards GenAI and it has given me a solid platform from where I can read more AI related blogs, whitepapers, etc. without feeling overwhelmed. It has even helped me demonstrate a POC within my team that was well received. I recommend this course to anyone starting out with GenAIRead moreSudarshan Suresh SrikantSoftware EngineerCienaKudos to the Educosys team and thanks to Keerti for making learning AI/ML easy. Starting from the basics upto advanced level with most up to date AI developments, the course instilled me with great confidence in approaching problems that could be solved with AI. Every minute detail with code was covered in-depth. I would definitely recommend taking up this course.Read moreSyed IInformation Security OfficerForm3A real game changer of a course especially when it comes to real world applications. Keerti\", \"I would definitely recommend taking up this course.Read moreSyed IInformation Security OfficerForm3A real game changer of a course especially when it comes to real world applications. Keerti is an amazing mentor and gets to the crux of the learning without any frills. Highly recommend.Ruthira SekarI'm Database developer/DBA, Completing the Generative AI course was an insightful experience, deepening my knowledge of Machine Learning. Keerti’s passion for teaching made complex topics easy to grasp. I highly recommend this course to anyone interested in AI and ML!Read moreAbhijit MoneSDEMentorgainI'm Database developer/DBA, Completing the Generative AI course was an insightful experience, deepening my knowledge of Machine Learning. Keerti’s passion for teaching made complex topics easy to grasp. I highly recommend this course to anyone interested in AI and ML!Read moreManika KaushikSenior Software EngineerOptum-United HealthGroupKeerti explains everything in such simple and creative\", 'grasp. I highly recommend this course to anyone interested in AI and ML!Read moreManika KaushikSenior Software EngineerOptum-United HealthGroupKeerti explains everything in such simple and creative manner, even difficult and huge topics became easy to understand.Frequently asked questionsIs this a Live or Recorded Course?When will the next Live batch be launched?What if I am interested in learning Live only?What are the prerequisites for the course?Is Machine Learning pre-requisite for the course?How many projects will we work on? Can I add these to resume?Is this course for freshers or for experienced people?How will you be able to cover so much in 7 weeks?What languages do we use to build the projects?Can I watch the classes only on the phone without a Laptop?Will you provide the code?Where can I ask you doubts?What language will the course be taught in?Do you have a mobile application?Can I watch the class recordings or go through notes offline?Do you provide certificate for the', 'can I ask you doubts?What language will the course be taught in?Do you have a mobile application?Can I watch the class recordings or go through notes offline?Do you provide certificate for the course?Can I get invoices for reimbursement?I have more questions, how can I reach out to you?© 2025 Copyright Educosys. All rights reserved.', 'Hands-on Generative AI CourseCoursesBundle CoursesMentorFree ContentTestimonialsFAQLogin Signup Hands-on Generative AI CourseLearn, Build, Deploy and Apply Generative AI7 weeks · 3 classes/week · 2 hrs/class + Post-class Doubt SupportAccess all Live BatchesLifetime access of RecordingsAccess Discord CommunityCode availableBuild ProjectsLearn Future-Ready TechEnroll 1Week 1Foundations of Generative AI Introduction to AI Mathematical Foundations for AI Probability, Statistics, and Linear Algebra Basics of Neural Networks Gradient Descent and Optimization Basics Architectures: Feedforward, RNN, and CNN Mini Project - Build a Simple Neural Network Using TensorFlow Mini Project - Train an Autoencoder on the MNIST Dataset2Week 2Deep Generative Models Discriminative and Generative models Generative Adversarial Networks (GANs) Variational Autoencoders (VAEs) Probabilistic Data Generation Using VAEs Four Mini Projects using TensorFlow Metrics Visualization using TensorBoard Mini Project -', 'Adversarial Networks (GANs) Variational Autoencoders (VAEs) Probabilistic Data Generation Using VAEs Four Mini Projects using TensorFlow Metrics Visualization using TensorBoard Mini Project - Implement a GAN to Generate Handwritten Digits Mini Project - Train a VAE to Generate Faces Using the CelebA Dataset3Week 3Transformers and Large Language Models RNN, LSTM Transformers Architecture Attention Mechanism: Self-Attention and Positional Encoding Major Project - Code Transformer from scratch Encoder-Decoder Framework Pretraining objectives: MLM, CLM GPT, BERT Mini Project - Sentiment Analysis Using BERT4Week 4Fine-Tuning, LangChain, LangGraph Pretraining and Fine-Tuning LoRA, QLoRA Hugging Face Fine-tuning for Tasks Like Summarization, QA LangChain Installation and Basic Setup Overview of LangChain: Prompts, Memory, Chains, Agents LangGraph: Nodes, State, StateGraph, Workflows AI Agents Mini Project - Simple Q&A Application Using LangChain5Week 5Vector Databases, RAG Vector Databases', \"LangChain: Prompts, Memory, Chains, Agents LangGraph: Nodes, State, StateGraph, Workflows AI Agents Mini Project - Simple Q&A Application Using LangChain5Week 5Vector Databases, RAG Vector Databases ChromaDB Applications of RAG Building RAG Pipelines with LangChain Building Frontend using Streamlit Major Project - Build End to End Chatbot like ChatGPT using Streamlit, LangGraph, ChromaDB, WebSearch Tools, Memory with LLMs Project - Build an App using Streamlit for Image Generation, Image Caption Generation, Video Caption Generation6Week 6Trending Topics MCP - Model Context Protocol Ollama Projects - Fine-Tuning using Unsloth Mixture of Experts Chain of Thoughts Deepseek Architecture7Week 7Projects, Trending Topics Distillation Diffusion Models Vision Transformers Multimodal Models CLIP Prompt EngineeringTestimonialsWe've a large community of talentsVoices of Delight: Discover what our students say about their learning journey. Real stories, real satisfaction—explore testimonials that\", \"EngineeringTestimonialsWe've a large community of talentsVoices of Delight: Discover what our students say about their learning journey. Real stories, real satisfaction—explore testimonials that reflect the quality, dedication, and excellence we strive to deliver.Sahitya Raj ACo-founderSreeal TechnologiesI attended Educosys live Generative AI online course, and despite not being a beginner in the field, I found it incredibly valuable for learners at all levels. The curriculum was well-structured, covering everything from basic neural networks to advanced frameworks and architectures.  One of the highlights was the transformer architecture, which was covered in remarkable depth with absolute clarity—no confusion, just a seamless understanding of self-attention, positional encoding, and how these models scale. And the way Keerti delivered it leaves a lasting impact—truly unmatched and unforgettable! Beyond the structured content, they also stretched beyond to cover the absolute latest -\", 'these models scale. And the way Keerti delivered it leaves a lasting impact—truly unmatched and unforgettable! Beyond the structured content, they also stretched beyond to cover the absolute latest - DeepSeek. Concepts that once felt intimidating now feel second nature.  An added bonus was the notes, which removed the overhead of excessive note-taking and allowed for more focused learning. The balance between theory and hands-on learning was perfect, making it easy to apply new knowledge in real-world projects. By the end of the course, I feel a significant boost in my confidence—whether at work, workshops, meetups, discussions, projects, or analyzing cutting-edge AI advancements.  This course is truly for everyone, whether you’re getting started or deepening your expertise in Generative AI. Highly recommended! Kudos to Keerthi and Amit for their incredible efforts in designing and delivering this course so beautifully, and for the vast amount of knowledge they have gathered and', \"AI. Highly recommended! Kudos to Keerthi and Amit for their incredible efforts in designing and delivering this course so beautifully, and for the vast amount of knowledge they have gathered and shared with us!Read moreAshish UpretiLead SDEIntelI really enjoyed the GenAI course. Coming from someone with zero knowledge on the topic, after seven weeks, I'm able to understand the magic behind GenAI. I also liked the quality of the content and how you broke down such a complex topic for easy understanding. I appreciate your patience and eagerness to clarify all the doubts. I have already enrolled in the LLD and HLD courses and am looking forward to it.Read moreSathish KrishnaBusiness Enterprise ArchitectIBMGenerative AI has been so much helpful for me in my job and my research, that this course has given me a breadth and depth of the fundamentals of every topic that we have been hearing in the trends of Computing Domain. Keerti has thought this course in a wonderful way that I can slice\", \"has given me a breadth and depth of the fundamentals of every topic that we have been hearing in the trends of Computing Domain. Keerti has thought this course in a wonderful way that I can slice and dice the complexity to understand the reasoning behind each concept. I recommend this course to everyone. Kudos to Keerti and her entire team.Read moreRaman SharmaPrincipal Software EngineerOracleI found the course very helpful and well structured. It started with the very basics of neural networks, it even touched upon the maths to get a proper understanding of what's going on under the hood. Gradually progressing towards more advanced models like CNN, RNN, and then transformers was done in a steady and helpful way. The intuitions Keerti provided were very useful and make a lasting impression in your mind regarding the topic. I haven't found such intuitions and easy to understand explanations elsewhere. Taking this course has increased my confidence towards GenAI and it has given me a\", \"in your mind regarding the topic. I haven't found such intuitions and easy to understand explanations elsewhere. Taking this course has increased my confidence towards GenAI and it has given me a solid platform from where I can read more AI related blogs, whitepapers, etc. without feeling overwhelmed. It has even helped me demonstrate a POC within my team that was well received. I recommend this course to anyone starting out with GenAIRead moreSudarshan Suresh SrikantSoftware EngineerCienaKudos to the Educosys team and thanks to Keerti for making learning AI/ML easy. Starting from the basics upto advanced level with most up to date AI developments, the course instilled me with great confidence in approaching problems that could be solved with AI. Every minute detail with code was covered in-depth. I would definitely recommend taking up this course.Read moreSyed IInformation Security OfficerForm3A real game changer of a course especially when it comes to real world applications. Keerti\", \"I would definitely recommend taking up this course.Read moreSyed IInformation Security OfficerForm3A real game changer of a course especially when it comes to real world applications. Keerti is an amazing mentor and gets to the crux of the learning without any frills. Highly recommend.Ruthira SekarI'm Database developer/DBA, Completing the Generative AI course was an insightful experience, deepening my knowledge of Machine Learning. Keerti’s passion for teaching made complex topics easy to grasp. I highly recommend this course to anyone interested in AI and ML!Read moreAbhijit MoneSDEMentorgainI'm Database developer/DBA, Completing the Generative AI course was an insightful experience, deepening my knowledge of Machine Learning. Keerti’s passion for teaching made complex topics easy to grasp. I highly recommend this course to anyone interested in AI and ML!Read moreManika KaushikSenior Software EngineerOptum-United HealthGroupKeerti explains everything in such simple and creative\", 'grasp. I highly recommend this course to anyone interested in AI and ML!Read moreManika KaushikSenior Software EngineerOptum-United HealthGroupKeerti explains everything in such simple and creative manner, even difficult and huge topics became easy to understand.Frequently asked questionsIs this a Live or Recorded Course?When will the next Live batch be launched?What if I am interested in learning Live only?What are the prerequisites for the course?Is Machine Learning pre-requisite for the course?How many projects will we work on? Can I add these to resume?Is this course for freshers or for experienced people?How will you be able to cover so much in 7 weeks?What languages do we use to build the projects?Can I watch the classes only on the phone without a Laptop?Will you provide the code?Where can I ask you doubts?What language will the course be taught in?Do you have a mobile application?Can I watch the class recordings or go through notes offline?Do you provide certificate for the', 'can I ask you doubts?What language will the course be taught in?Do you have a mobile application?Can I watch the class recordings or go through notes offline?Do you provide certificate for the course?Can I get invoices for reimbursement?I have more questions, how can I reach out to you?© 2025 Copyright Educosys. All rights reserved.'], 'uris': None, 'included': ['metadatas', 'documents'], 'data': None, 'metadatas': [{'description': 'Hands-on Generative AI Course', 'source': 'https://educosys.com/course/genai', 'title': 'Hands-on Generative AI Course', 'language': 'en'}, {'title': 'Hands-on Generative AI Course', 'description': 'Hands-on Generative AI Course', 'source': 'https://educosys.com/course/genai', 'language': 'en'}, {'title': 'Hands-on Generative AI Course', 'description': 'Hands-on Generative AI Course', 'source': 'https://educosys.com/course/genai', 'language': 'en'}, {'language': 'en', 'title': 'Hands-on Generative AI Course', 'source': 'https://educosys.com/course/genai', 'description': 'Hands-on Generative AI Course'}, {'language': 'en', 'description': 'Hands-on Generative AI Course', 'title': 'Hands-on Generative AI Course', 'source': 'https://educosys.com/course/genai'}, {'source': 'https://educosys.com/course/genai', 'description': 'Hands-on Generative AI Course', 'language': 'en', 'title': 'Hands-on Generative AI Course'}, {'description': 'Hands-on Generative AI Course', 'title': 'Hands-on Generative AI Course', 'language': 'en', 'source': 'https://educosys.com/course/genai'}, {'source': 'https://educosys.com/course/genai', 'language': 'en', 'title': 'Hands-on Generative AI Course', 'description': 'Hands-on Generative AI Course'}, {'language': 'en', 'description': 'Hands-on Generative AI Course', 'title': 'Hands-on Generative AI Course', 'source': 'https://educosys.com/course/genai'}, {'source': 'https://educosys.com/course/genai', 'description': 'Hands-on Generative AI Course', 'title': 'Hands-on Generative AI Course', 'language': 'en'}, {'source': 'https://educosys.com/course/genai', 'language': 'en', 'description': 'Hands-on Generative AI Course', 'title': 'Hands-on Generative AI Course'}, {'description': 'Hands-on Generative AI Course', 'title': 'Hands-on Generative AI Course', 'language': 'en', 'source': 'https://educosys.com/course/genai'}, {'source': 'https://educosys.com/course/genai', 'language': 'en', 'title': 'Hands-on Generative AI Course', 'description': 'Hands-on Generative AI Course'}, {'source': 'https://educosys.com/course/genai', 'title': 'Hands-on Generative AI Course', 'language': 'en', 'description': 'Hands-on Generative AI Course'}, {'language': 'en', 'title': 'Hands-on Generative AI Course', 'description': 'Hands-on Generative AI Course', 'source': 'https://educosys.com/course/genai'}, {'language': 'en', 'source': 'https://educosys.com/course/genai', 'title': 'Hands-on Generative AI Course', 'description': 'Hands-on Generative AI Course'}, {'source': 'https://educosys.com/course/genai', 'title': 'Hands-on Generative AI Course', 'language': 'en', 'description': 'Hands-on Generative AI Course'}, {'language': 'en', 'source': 'https://educosys.com/course/genai', 'description': 'Hands-on Generative AI Course', 'title': 'Hands-on Generative AI Course'}, {'language': 'en', 'title': 'Hands-on Generative AI Course', 'source': 'https://educosys.com/course/genai', 'description': 'Hands-on Generative AI Course'}, {'language': 'en', 'description': 'Hands-on Generative AI Course', 'title': 'Hands-on Generative AI Course', 'source': 'https://educosys.com/course/genai'}, {'title': 'Hands-on Generative AI Course', 'description': 'Hands-on Generative AI Course', 'source': 'https://educosys.com/course/genai', 'language': 'en'}, {'source': 'https://educosys.com/course/genai', 'description': 'Hands-on Generative AI Course', 'title': 'Hands-on Generative AI Course', 'language': 'en'}, {'language': 'en', 'title': 'Hands-on Generative AI Course', 'description': 'Hands-on Generative AI Course', 'source': 'https://educosys.com/course/genai'}, {'source': 'https://educosys.com/course/genai', 'title': 'Hands-on Generative AI Course', 'language': 'en', 'description': 'Hands-on Generative AI Course'}, {'language': 'en', 'source': 'https://educosys.com/course/genai', 'title': 'Hands-on Generative AI Course', 'description': 'Hands-on Generative AI Course'}, {'language': 'en', 'description': 'Hands-on Generative AI Course', 'source': 'https://educosys.com/course/genai', 'title': 'Hands-on Generative AI Course'}, {'description': 'Hands-on Generative AI Course', 'source': 'https://educosys.com/course/genai', 'language': 'en', 'title': 'Hands-on Generative AI Course'}, {'source': 'https://educosys.com/course/genai', 'title': 'Hands-on Generative AI Course', 'description': 'Hands-on Generative AI Course', 'language': 'en'}, {'language': 'en', 'description': 'Hands-on Generative AI Course', 'title': 'Hands-on Generative AI Course', 'source': 'https://educosys.com/course/genai'}, {'title': 'Hands-on Generative AI Course', 'language': 'en', 'source': 'https://educosys.com/course/genai', 'description': 'Hands-on Generative AI Course'}, {'description': 'Hands-on Generative AI Course', 'source': 'https://educosys.com/course/genai', 'title': 'Hands-on Generative AI Course', 'language': 'en'}, {'description': 'Hands-on Generative AI Course', 'title': 'Hands-on Generative AI Course', 'language': 'en', 'source': 'https://educosys.com/course/genai'}, {'title': 'Hands-on Generative AI Course', 'language': 'en', 'source': 'https://educosys.com/course/genai', 'description': 'Hands-on Generative AI Course'}]}\n"
     ]
    }
   ],
   "source": [
    "print(vectorstore._collection.get())"
   ]
  },
  {
   "cell_type": "code",
   "execution_count": 70,
   "id": "32ad6c34",
   "metadata": {},
   "outputs": [
    {
     "name": "stdout",
     "output_type": "stream",
     "text": [
      "\n",
      "Collection 1-  {'ids': ['3d4185c4-e991-4ec9-9c17-2ed15f1c2bed'], 'embeddings': array([[-9.63062197e-02, -8.97593945e-02,  4.69975807e-02,\n",
      "        -1.12861283e-02, -2.90810987e-02,  2.91140247e-02,\n",
      "        -2.46875044e-02, -3.76585685e-02, -1.09929703e-01,\n",
      "        -5.26918583e-02, -1.38205616e-02, -9.62873027e-02,\n",
      "        -6.02138275e-03, -9.81266424e-03, -5.78716546e-02,\n",
      "         1.95925999e-02,  7.46515766e-02,  5.44828102e-02,\n",
      "        -2.68450361e-02, -6.09801942e-03,  1.87825412e-02,\n",
      "         5.61191812e-02,  1.51571156e-02, -4.96513844e-02,\n",
      "         5.62588908e-02,  2.29792576e-02,  2.53116768e-02,\n",
      "        -6.27807006e-02,  7.78359845e-02, -2.71667168e-02,\n",
      "         1.09117981e-02,  4.46829088e-02,  1.65329948e-02,\n",
      "         4.48449291e-02, -2.69264132e-02,  7.19821751e-02,\n",
      "        -8.32602307e-02,  2.81116646e-02,  5.03980704e-02,\n",
      "         7.80369202e-03, -6.50567785e-02,  4.00032755e-03,\n",
      "         2.20578518e-02, -4.91427891e-02,  5.53391315e-02,\n",
      "         2.31062118e-02, -4.15020548e-02, -9.36729982e-02,\n",
      "         6.48609623e-02,  4.50754389e-02, -4.42087352e-02,\n",
      "        -6.95352629e-02,  1.40587585e-02,  1.06023643e-02,\n",
      "        -6.15342110e-02,  1.89493112e-02,  2.20471080e-02,\n",
      "         7.88326561e-03,  1.34433026e-03, -1.79724393e-05,\n",
      "        -5.32448292e-02, -5.80415949e-02, -1.58866830e-02,\n",
      "        -7.91698694e-02, -2.26002596e-02, -7.70992488e-02,\n",
      "        -1.62990056e-02,  1.02530576e-01,  7.49735311e-02,\n",
      "        -2.88832691e-02, -1.10244732e-02,  8.09419602e-02,\n",
      "        -5.24845123e-02,  4.84241620e-02,  3.53972726e-02,\n",
      "         3.75597775e-02,  4.42304760e-02, -7.25799724e-02,\n",
      "         6.75242096e-02, -4.64974903e-02, -2.36695055e-02,\n",
      "         1.14717698e-02,  2.25837212e-02,  4.37801704e-02,\n",
      "         2.56380276e-03, -1.34413531e-02,  1.36717106e-03,\n",
      "         1.12403467e-01,  4.88435365e-02, -4.52224240e-02,\n",
      "        -2.03758348e-02,  2.12087017e-02, -1.11517888e-02,\n",
      "        -3.72047606e-03,  7.17206150e-02,  1.75246727e-02,\n",
      "        -2.45771138e-03, -2.04787888e-02, -6.48392141e-02,\n",
      "         3.60849686e-02, -2.73910305e-03,  1.49570056e-03,\n",
      "        -1.04262363e-02, -6.74064457e-02, -2.67838273e-04,\n",
      "         2.39716601e-02,  2.68735196e-02,  2.21479479e-02,\n",
      "         4.87020761e-02, -5.09732142e-02,  2.39513461e-02,\n",
      "         9.88940336e-03, -2.21439488e-02, -9.56919715e-02,\n",
      "         3.44877951e-02, -1.28403269e-02, -2.07030755e-02,\n",
      "         8.48744716e-03,  2.14396119e-02,  1.03000097e-01,\n",
      "        -5.40112965e-02,  5.01693599e-02, -2.30055489e-02,\n",
      "        -2.81203934e-03,  7.28215231e-03, -7.07706809e-02,\n",
      "        -1.82273909e-02,  1.35658631e-32,  1.25857312e-02,\n",
      "         1.12442242e-03, -3.27031803e-03,  6.12176508e-02,\n",
      "         8.90740678e-02,  2.52420604e-02,  1.96823906e-02,\n",
      "         3.52262445e-02, -1.17447805e-02, -5.18085361e-02,\n",
      "        -4.11075950e-02, -2.51090080e-02, -1.16467960e-01,\n",
      "         9.32510942e-02,  7.69942850e-02, -1.00141779e-01,\n",
      "        -2.58712377e-02, -5.21961264e-02,  7.65511720e-03,\n",
      "        -1.94258410e-02, -1.18911183e-02, -5.52447662e-02,\n",
      "         1.35522643e-02,  3.89754623e-02,  1.63084958e-02,\n",
      "         9.33707133e-03,  1.28496289e-01, -1.98260453e-02,\n",
      "         1.37529299e-02,  5.36316889e-04, -8.27012807e-02,\n",
      "        -6.84939465e-03, -6.16948083e-02, -4.67143394e-02,\n",
      "        -4.19162698e-02,  4.10431102e-02,  3.52345556e-02,\n",
      "        -1.92606356e-02, -4.65978421e-02, -2.38792263e-02,\n",
      "         3.01133754e-04,  3.42923664e-02,  7.08571402e-03,\n",
      "        -5.93567267e-02, -9.96570140e-02, -5.65351844e-02,\n",
      "         1.07910082e-01,  6.34219870e-02,  1.25542015e-01,\n",
      "        -8.07631090e-02, -6.06822819e-02, -3.04152891e-02,\n",
      "        -3.57437320e-02, -4.50769477e-02, -1.29335839e-02,\n",
      "         4.09594998e-02,  2.26677046e-03,  5.35156801e-02,\n",
      "         2.09961948e-03,  2.33152993e-02,  7.09863089e-04,\n",
      "         2.49050017e-02,  3.23802233e-02,  4.08970527e-02,\n",
      "        -2.75385287e-02,  3.03921960e-02, -2.83572488e-02,\n",
      "        -3.09840515e-02,  1.02300212e-01,  5.85590303e-03,\n",
      "         7.77471950e-03,  9.48418572e-04,  1.78268328e-02,\n",
      "        -4.19220068e-02,  6.14549331e-02,  8.70093182e-02,\n",
      "        -2.33343826e-03, -5.30793965e-02, -8.92414711e-03,\n",
      "         4.69359383e-02, -5.43366969e-02,  4.12154794e-02,\n",
      "        -1.71024799e-02, -5.92173962e-03,  2.67628394e-02,\n",
      "        -1.35795306e-02,  5.12461644e-03,  6.73466315e-03,\n",
      "        -5.18038422e-02,  1.62570514e-02, -8.72996971e-02,\n",
      "        -2.40194816e-02,  8.09057336e-03,  5.33720069e-02,\n",
      "        -5.26352450e-02, -1.37869941e-32, -7.20052272e-02,\n",
      "         1.24585181e-01, -6.24920279e-02,  5.08479886e-02,\n",
      "         7.15437233e-02,  4.38776566e-03, -1.32321548e-02,\n",
      "         3.55929434e-02, -7.63432635e-03, -2.34410707e-02,\n",
      "        -4.79808636e-02,  6.28550053e-02, -1.08721862e-02,\n",
      "        -3.09730507e-02, -8.71237442e-02, -3.66601977e-03,\n",
      "        -5.31639345e-02, -1.45182584e-03,  3.64484340e-02,\n",
      "         4.76409644e-02,  8.90295580e-03,  1.17725641e-01,\n",
      "        -1.22181900e-01, -6.63447287e-03, -1.86922532e-02,\n",
      "        -2.27530543e-02, -6.34709885e-03,  6.81173578e-02,\n",
      "         2.56772880e-02,  6.89973403e-03,  1.38173802e-02,\n",
      "        -6.43416494e-02, -4.21663523e-02,  3.34011540e-02,\n",
      "        -6.10744916e-02,  6.56704009e-02,  3.43544520e-02,\n",
      "        -1.94536708e-02, -2.18164306e-02,  1.31658599e-01,\n",
      "         1.00757636e-01, -3.21780890e-02, -3.04636583e-02,\n",
      "        -6.57932758e-02, -2.89882552e-02, -3.49695273e-02,\n",
      "        -6.92289248e-02,  4.51370068e-02,  4.07149717e-02,\n",
      "         6.93905074e-03, -7.45837251e-03,  1.69960316e-02,\n",
      "        -8.70987773e-02, -1.38695017e-02, -1.72696207e-02,\n",
      "        -8.46213028e-02,  4.84792627e-02, -8.35209787e-02,\n",
      "         6.92314208e-02,  5.14543839e-02, -9.00615305e-02,\n",
      "        -9.63399187e-02,  5.95379137e-02, -4.52391990e-02,\n",
      "        -6.54276013e-02, -6.86923135e-03, -6.79524615e-02,\n",
      "         5.94877042e-02, -5.94429485e-03,  2.03436241e-02,\n",
      "        -1.86302681e-02,  9.35420841e-02,  8.77356753e-02,\n",
      "         2.55137682e-02, -3.29355262e-02, -2.01305132e-02,\n",
      "        -6.84191007e-03,  4.95505482e-02,  5.77115193e-02,\n",
      "        -1.12085730e-01,  3.63410055e-03, -7.51526803e-02,\n",
      "        -4.08712141e-02,  4.04058583e-02,  5.38791493e-02,\n",
      "         4.55140062e-02,  5.30310571e-02,  3.14397365e-02,\n",
      "         8.50271955e-02,  7.70325735e-02, -3.95992659e-02,\n",
      "         5.99140041e-02,  9.84698310e-02, -8.13592412e-03,\n",
      "        -4.23367694e-02, -5.52981874e-08, -9.63826478e-03,\n",
      "         1.00453794e-02,  9.48411226e-02,  2.47036777e-02,\n",
      "         2.78171618e-02, -1.31071676e-02, -5.32294204e-03,\n",
      "         1.13341408e-02,  2.79173348e-02, -4.29588631e-02,\n",
      "         2.42554601e-02, -4.35341261e-02, -2.95630600e-02,\n",
      "        -4.05598953e-02,  3.82994600e-02,  4.23065722e-02,\n",
      "         5.21169556e-03,  3.42070200e-02,  2.48325877e-02,\n",
      "        -9.45551917e-02,  1.03205979e-01, -9.60183963e-02,\n",
      "        -3.45965959e-02,  4.65178341e-02,  1.75745767e-02,\n",
      "        -1.00883454e-01,  8.53122969e-04,  4.78513446e-03,\n",
      "        -6.45716935e-02, -1.07523706e-02, -5.15279956e-02,\n",
      "         4.81289290e-02,  4.11039218e-02, -9.81790274e-02,\n",
      "         2.75453590e-02,  6.11104406e-02, -1.81417298e-02,\n",
      "        -7.77371749e-02, -1.17058046e-02,  1.00550130e-02,\n",
      "        -3.38736326e-02, -4.61657625e-03, -4.87606749e-02,\n",
      "        -4.53147553e-02,  6.48586601e-02,  1.38170924e-02,\n",
      "         3.28298018e-04, -1.60835922e-01,  2.85665132e-02,\n",
      "         5.69882430e-03, -1.43793933e-02, -6.17713667e-03,\n",
      "         2.24425327e-02,  3.50198969e-02,  1.10427916e-01,\n",
      "         4.49724570e-02,  2.27534324e-02, -4.07840721e-02,\n",
      "         5.58123216e-02,  1.96040533e-02,  8.80193710e-03,\n",
      "         6.48772568e-02, -1.24832377e-01, -1.22935893e-02]]), 'documents': ['Hands-on Generative AI CourseCoursesBundle CoursesMentorFree ContentTestimonialsFAQLogin Signup Hands-on Generative AI CourseLearn, Build, Deploy and Apply Generative AI7 weeks · 3 classes/week · 2 hrs/class + Post-class Doubt SupportAccess all Live BatchesLifetime access of RecordingsAccess Discord CommunityCode availableBuild ProjectsLearn Future-Ready TechEnroll 1Week 1Foundations of Generative AI Introduction to AI Mathematical Foundations for AI Probability, Statistics, and Linear Algebra Basics of Neural Networks Gradient Descent and Optimization Basics Architectures: Feedforward, RNN, and CNN Mini Project - Build a Simple Neural Network Using TensorFlow Mini Project - Train an Autoencoder on the MNIST Dataset2Week 2Deep Generative Models Discriminative and Generative models Generative Adversarial Networks (GANs) Variational Autoencoders (VAEs) Probabilistic Data Generation Using VAEs Four Mini Projects using TensorFlow Metrics Visualization using TensorBoard Mini Project -'], 'uris': None, 'included': ['embeddings', 'documents', 'metadatas'], 'data': None, 'metadatas': [{'description': 'Hands-on Generative AI Course', 'source': 'https://educosys.com/course/genai', 'language': 'en', 'title': 'Hands-on Generative AI Course'}]}\n"
     ]
    }
   ],
   "source": [
    "print(\"\\nCollection 1- \", vectorstore._collection.get(ids=['3d4185c4-e991-4ec9-9c17-2ed15f1c2bed'], include=[\"embeddings\", \"documents\", \"metadatas\"]))"
   ]
  },
  {
   "cell_type": "code",
   "execution_count": 71,
   "id": "60a56cf8",
   "metadata": {},
   "outputs": [],
   "source": [
    "retriever = vectorstore.as_retriever()"
   ]
  },
  {
   "cell_type": "code",
   "execution_count": 72,
   "id": "69ac8467",
   "metadata": {},
   "outputs": [
    {
     "name": "stderr",
     "output_type": "stream",
     "text": [
      "c:\\Users\\deysa\\OneDrive\\Desktop\\Bucket\\LLM\\GEN_AI\\venv\\Lib\\site-packages\\langsmith\\client.py:272: LangSmithMissingAPIKeyWarning: API key must be provided when using hosted LangSmith API\n",
      "  warnings.warn(\n"
     ]
    }
   ],
   "source": [
    "from langchain import hub\n",
    "prompt = hub.pull(\"rlm/rag-prompt\")"
   ]
  },
  {
   "cell_type": "code",
   "execution_count": 73,
   "id": "3e5b8416",
   "metadata": {},
   "outputs": [],
   "source": [
    "from langchain_core.runnables import RunnablePassthrough\n",
    "from langchain_core.output_parsers import StrOutputParser"
   ]
  },
  {
   "cell_type": "code",
   "execution_count": 74,
   "id": "0019c8ff",
   "metadata": {},
   "outputs": [],
   "source": [
    "def format_docs(docs):\n",
    "    return \"\\n\".join(doc.page_content for doc in docs)"
   ]
  },
  {
   "cell_type": "code",
   "execution_count": 75,
   "id": "e67e7005",
   "metadata": {},
   "outputs": [],
   "source": [
    "rag_chain = ({\"context\" : retriever | format_docs, \"question\" : RunnablePassthrough()}\n",
    "                | prompt\n",
    "                | llm\n",
    "                | StrOutputParser()\n",
    ")\n"
   ]
  },
  {
   "cell_type": "code",
   "execution_count": 76,
   "id": "2ab81b8b",
   "metadata": {},
   "outputs": [
    {
     "data": {
      "text/plain": [
       "'Yes, you can watch the class recordings. However, the provided context does not specify for how long the recordings are available.'"
      ]
     },
     "execution_count": 76,
     "metadata": {},
     "output_type": "execute_result"
    }
   ],
   "source": [
    "rag_chain.invoke(\"Are the recordings of courses available? For how long?\")"
   ]
  },
  {
   "cell_type": "code",
   "execution_count": null,
   "id": "a504de6e",
   "metadata": {},
   "outputs": [
    {
     "data": {
      "text/plain": [
       "'Based on the provided context, the text repeatedly refers to \"the GenAI course\" or \"this course,\" indicating a single Generative AI course. The context does not specify how many GenAI courses are available.'"
      ]
     },
     "execution_count": 78,
     "metadata": {},
     "output_type": "execute_result"
    }
   ],
   "source": [
    "rag_chain.invoke(\"how many gen ai cource availabe?\")\n"
   ]
  },
  {
   "cell_type": "code",
   "execution_count": 81,
   "id": "60ff3ad5",
   "metadata": {},
   "outputs": [
    {
     "data": {
      "text/plain": [
       "\"Testimonials are real stories and voices of delight from students sharing their learning journey and satisfaction. They reflect the quality, dedication, and excellence of the educational experience. For example, Sahitya Raj A's feedback on the Educosys Generative AI course is presented as a testimonial.\""
      ]
     },
     "execution_count": 81,
     "metadata": {},
     "output_type": "execute_result"
    }
   ],
   "source": [
    "rag_chain.invoke(\"testimonial ?\")"
   ]
  },
  {
   "cell_type": "code",
   "execution_count": 80,
   "id": "434c09e6",
   "metadata": {},
   "outputs": [
    {
     "data": {
      "text/plain": [
       "\"Yes, testimonials for the course are available. The provided context includes a testimonial from Manika Kaushik, a Senior Software Engineer at Optum-United HealthGroup. She highly recommends the course and praises the instructor's clear explanations.\""
      ]
     },
     "execution_count": 80,
     "metadata": {},
     "output_type": "execute_result"
    }
   ],
   "source": [
    "rag_chain.invoke(\"are the testimonials for the course available?\")"
   ]
  }
 ],
 "metadata": {
  "kernelspec": {
   "display_name": "venv",
   "language": "python",
   "name": "python3"
  },
  "language_info": {
   "codemirror_mode": {
    "name": "ipython",
    "version": 3
   },
   "file_extension": ".py",
   "mimetype": "text/x-python",
   "name": "python",
   "nbconvert_exporter": "python",
   "pygments_lexer": "ipython3",
   "version": "3.13.0"
  }
 },
 "nbformat": 4,
 "nbformat_minor": 5
}
